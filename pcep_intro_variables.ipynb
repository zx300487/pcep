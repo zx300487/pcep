{
 "cells": [
  {
   "cell_type": "code",
   "execution_count": 6,
   "metadata": {},
   "outputs": [
    {
     "output_type": "stream",
     "name": "stdout",
     "text": [
      "False\nTrue\nFalse\n"
     ]
    }
   ],
   "source": [
    "#Bool\n",
    "\n",
    "is_game_over = False\n",
    "print(is_game_over)\n",
    "is_game_over = True\n",
    "print(is_game_over)\n",
    "is_game_over = 5 > 6\n",
    "print(is_game_over)\n"
   ]
  },
  {
   "cell_type": "code",
   "execution_count": 8,
   "metadata": {},
   "outputs": [
    {
     "output_type": "stream",
     "name": "stdout",
     "text": [
      "5\n0.5\n"
     ]
    }
   ],
   "source": [
    "#int\n",
    "num_lives = 5\n",
    "print(num_lives)\n",
    "#float\n",
    "percent_health = 0.5\n",
    "print(percent_health)\n"
   ]
  },
  {
   "cell_type": "code",
   "execution_count": 10,
   "metadata": {},
   "outputs": [
    {
     "output_type": "stream",
     "name": "stdout",
     "text": [
      "Gavin\nm0j0\n"
     ]
    }
   ],
   "source": [
    "#string\n",
    "player_name = \"Gavin\"\n",
    "print(player_name)\n",
    "player_name = \"m0j0\"\n",
    "print(player_name)\n",
    "\n"
   ]
  },
  {
   "cell_type": "code",
   "execution_count": 15,
   "metadata": {},
   "outputs": [
    {
     "output_type": "stream",
     "name": "stdout",
     "text": [
      "<class 'bool'>\n<class 'str'>\n<class 'float'>\n<class 'str'>\n<class 'int'>\n"
     ]
    }
   ],
   "source": [
    "print(type(is_game_over))\n",
    "print(type(num_lives))\n",
    "print(type(percent_health))\n",
    "print(type(player_name))\n",
    "\n",
    "num_lives = 5\n",
    "print(type(num_lives))"
   ]
  },
  {
   "cell_type": "code",
   "execution_count": 22,
   "metadata": {},
   "outputs": [
    {
     "output_type": "stream",
     "name": "stdout",
     "text": [
      "<class 'int'>\n<class 'str'>\n"
     ]
    }
   ],
   "source": [
    "num_lives = 5\n",
    "# num_lives = \"5\"\n",
    "str_num_lives = str(num_lives)\n",
    "print(type(num_lives))\n",
    "print(type(str_num_lives))"
   ]
  },
  {
   "cell_type": "code",
   "execution_count": 23,
   "metadata": {},
   "outputs": [
    {
     "output_type": "stream",
     "name": "stdout",
     "text": [
      "False\nTrue\n"
     ]
    }
   ],
   "source": [
    "#bools\n",
    "\n",
    "print(bool(0))\n",
    "print(bool(1))"
   ]
  },
  {
   "cell_type": "code",
   "execution_count": 30,
   "metadata": {},
   "outputs": [
    {
     "output_type": "stream",
     "name": "stdout",
     "text": [
      "1\n0\n0\n1\n"
     ]
    }
   ],
   "source": [
    "#print(int(\"asadasdsad\"))\n",
    "print(int(1))\n",
    "print(int(0.5))\n",
    "print(int(False))\n",
    "print(int(True))\n"
   ]
  },
  {
   "cell_type": "code",
   "execution_count": 31,
   "metadata": {},
   "outputs": [
    {
     "output_type": "stream",
     "name": "stdout",
     "text": [
      "1.0\n0.5\n0.0\n1.0\n"
     ]
    }
   ],
   "source": [
    "print(float(1))\n",
    "print(float(0.5))\n",
    "print(float(False))\n",
    "print(float(True))"
   ]
  },
  {
   "cell_type": "code",
   "execution_count": null,
   "metadata": {},
   "outputs": [],
   "source": []
  }
 ],
 "metadata": {
  "interpreter": {
   "hash": "e7370f93d1d0cde622a1f8e1c04877d8463912d04d973331ad4851f04de6915a"
  },
  "kernelspec": {
   "display_name": "Python 3.8.10 64-bit",
   "name": "python381064bitdf6f092528884b3685b6e9cab5789932"
  },
  "language_info": {
   "codemirror_mode": {
    "name": "ipython",
    "version": 3
   },
   "file_extension": ".py",
   "mimetype": "text/x-python",
   "name": "python",
   "nbconvert_exporter": "python",
   "pygments_lexer": "ipython3",
   "version": "3.8.10-final"
  },
  "orig_nbformat": 4
 },
 "nbformat": 4,
 "nbformat_minor": 2
}