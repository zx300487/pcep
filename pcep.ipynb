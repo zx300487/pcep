{
 "cells": [
  {
   "cell_type": "markdown",
   "metadata": {},
   "source": [
    "# PCEP Notes.\n",
    "\n",
    "## Variables"
   ]
  },
  {
   "cell_type": "code",
   "execution_count": 2,
   "metadata": {},
   "outputs": [
    {
     "name": "stdout",
     "output_type": "stream",
     "text": [
      "False\n",
      "True\n",
      "False\n"
     ]
    }
   ],
   "source": [
    "# Examples of passing variable:\n",
    "\n",
    "\n",
    "is_game_over = False\n",
    "print (is_game_over)\n",
    "is_game_over = True\n",
    "print (is_game_over)\n",
    "is_game_over = 5 > 6\n",
    "print (is_game_over) \n",
    "\n"
   ]
  },
  {
   "cell_type": "code",
   "execution_count": 4,
   "metadata": {},
   "outputs": [
    {
     "name": "stdout",
     "output_type": "stream",
     "text": [
      "5\n",
      "0.5\n"
     ]
    }
   ],
   "source": [
    "# Examples of numbers as variables\n",
    "\n",
    "num_lives = 5\n",
    "print (num_lives)\n",
    "percent_health = 0.5\n",
    "print (percent_health)"
   ]
  },
  {
   "cell_type": "code",
   "execution_count": 6,
   "metadata": {},
   "outputs": [
    {
     "name": "stdout",
     "output_type": "stream",
     "text": [
      "Gavin Davis\n"
     ]
    }
   ],
   "source": [
    "# Examples of variables as strings\n",
    "\n",
    "player_name = \"Gavin Davis\"\n",
    "print (player_name)"
   ]
  },
  {
   "cell_type": "markdown",
   "metadata": {},
   "source": [
    "# New Tutorial started on variables with Stackskills.\n",
    "\n",
    "Variables are a storage location using an identifier and value.\n"
   ]
  },
  {
   "cell_type": "code",
   "execution_count": 4,
   "metadata": {},
   "outputs": [
    {
     "name": "stdout",
     "output_type": "stream",
     "text": [
      "HELLO PYTHON - HELLO WORLD - HELLO STUDENTS\n",
      "100\n",
      "100\n",
      "HELLO WORLD\n",
      "100\n",
      "HELLO WORLD\n"
     ]
    }
   ],
   "source": [
    "print (\"HELLO PYTHON - HELLO WORLD - HELLO STUDENTS\")\n",
    "\n",
    "counter = 100   # An integer is declared as a variable\n",
    "a, b, c = counter, counter, message # Assign counter and message to a, b, c variables\n",
    "message = \"HELLO WORLD\" # A string variable\n",
    "\n",
    "print(a)    # Counter is stored in each\n",
    "print(b)\n",
    "print(c)\n",
    "print (counter)     # Prints variable\n",
    "print (message)     # Default is to print on a new line\n",
    "\n",
    "\n"
   ]
  },
  {
   "cell_type": "markdown",
   "metadata": {},
   "source": [
    "# DATA TYPES OF PYTHON\n",
    "\n",
    "### 1. Numbers\n",
    "### 2. String\n",
    "### 3. Lists\n",
    "### 4. Tuple\n",
    "### 5. Dictionary"
   ]
  },
  {
   "cell_type": "code",
   "execution_count": 11,
   "metadata": {},
   "outputs": [
    {
     "name": "stdout",
     "output_type": "stream",
     "text": [
      "How are you?\n",
      "H\n",
      "w a\n",
      "How are you? ... Hello People\n",
      "How are you?How are you?How are you?How are you?\n"
     ]
    }
   ],
   "source": [
    "var1 = 200 # 1. Number\n",
    "del var1 # Deletes the number object\n",
    "\n",
    "# Numeric Types\n",
    "# A. int = (integers)\n",
    "# B. float = (floating point numbers)\n",
    "# C. long = (long integers)\n",
    "# D. complex = (complex numbers)\n",
    "\n",
    "\n",
    "# Strings\n",
    "\n",
    "str = \"How are you?\" # string type\n",
    "print (str)\n",
    "print (str[0]) # Print the first character number zero is 1 REMEMBER!!\n",
    "print (str[2:5]) # Print character from the 3rd to the 5th ( remember zero!!)\n",
    "print (str + \" ... Hello People\") # Concatenation\n",
    "print (str * 4) # Print str variable 4 times "
   ]
  },
  {
   "cell_type": "markdown",
   "metadata": {},
   "source": [
    "# Data Types\n",
    "\n",
    "## Type/Represents/Range/Default values\n",
    "\n",
    "bool - Boolean value = True or False. Default False\n",
    "int - 32-bit signed integer type = -2,147,483,648 to +2,147,483,648. Default 0\n",
    "char - 16 bit Unicode character = U +0000 to U +ffff. Default Value '\\0' (escape character)\n",
    "float - 32 bit single-precision floating point type = -3.4 x 10^38 to +3.4 x10^38. Default 0.0F\n",
    "double - 64 bit double-precision floating point type - (+/-)5.0 x 10^324 (+/-) 1.7 x 10^308. Default 0.0D\n",
    "string - string of characters of any length.\n",
    "\n",
    "= is assigned to\n",
    "== is equal to exactly\n",
    "=== is equal to type and exactly\n",
    "\n"
   ]
  },
  {
   "cell_type": "code",
   "execution_count": 5,
   "metadata": {},
   "outputs": [
    {
     "name": "stdout",
     "output_type": "stream",
     "text": [
      " --- LISTS ---\n",
      "['Hello World', 150, 1.25, 'My name is Gavin', 100.25]\n",
      "[300, 'Gavin', 300, 'Gavin']\n",
      "Hello World\n",
      "[150, 1.25, 'My name is Gavin']\n",
      "['Hello World', 150, 1.25, 'My name is Gavin', 100.25, 300, 'Gavin']\n"
     ]
    }
   ],
   "source": [
    "# Python data Types\n",
    "\n",
    "#Lists (enclosed with square brackets seperated by comma and be different data type)\n",
    "\n",
    "list = [\"Hello World\", 150, 1.25, \"My name is Gavin\", 100.25]\n",
    "tinylist = [300, \"Gavin\"]\n",
    "\n",
    "print(\" --- LISTS ---\")\n",
    "print (list) # Print complete list\n",
    "print (tinylist * 2) # Pritn tinylist 2 times\n",
    "print (list[0]) # Print first item\n",
    "print(list[1:4]) # Prints 2nd to 4th item missing first as 0\n",
    "print(list+tinylist) # Print both list together as one list\n",
    "\n"
   ]
  },
  {
   "cell_type": "code",
   "execution_count": 7,
   "metadata": {},
   "outputs": [
    {
     "name": "stdout",
     "output_type": "stream",
     "text": [
      "('Hello Gavin', 185, 3.14, 'Hi again', 150.23)\n",
      "(450, 'Gavin', 450, 'Gavin')\n",
      "Hello Gavin\n",
      "(185, 3.14, 'Hi again')\n",
      "('Hello Gavin', 185, 3.14, 'Hi again', 150.23, 450, 'Gavin')\n"
     ]
    },
    {
     "ename": "TypeError",
     "evalue": "'type' object does not support item assignment",
     "output_type": "error",
     "traceback": [
      "\u001b[0;31m---------------------------------------------------------------------------\u001b[0m",
      "\u001b[0;31mTypeError\u001b[0m                                 Traceback (most recent call last)",
      "\u001b[0;32m/tmp/ipykernel_4768/2005922554.py\u001b[0m in \u001b[0;36m<module>\u001b[0;34m\u001b[0m\n\u001b[1;32m      9\u001b[0m \u001b[0mprint\u001b[0m \u001b[0;34m(\u001b[0m\u001b[0msample_tuple\u001b[0m \u001b[0;34m+\u001b[0m \u001b[0mtiny_sample_tuple\u001b[0m\u001b[0;34m)\u001b[0m \u001b[0;31m# They will produce the same result as a list but...\u001b[0m\u001b[0;34m\u001b[0m\u001b[0;34m\u001b[0m\u001b[0m\n\u001b[1;32m     10\u001b[0m \u001b[0;34m\u001b[0m\u001b[0m\n\u001b[0;32m---> 11\u001b[0;31m \u001b[0mtuple\u001b[0m\u001b[0;34m[\u001b[0m\u001b[0;36m2\u001b[0m\u001b[0;34m]\u001b[0m \u001b[0;34m=\u001b[0m \u001b[0;36m500\u001b[0m\u001b[0;34m\u001b[0m\u001b[0;34m\u001b[0m\u001b[0m\n\u001b[0m",
      "\u001b[0;31mTypeError\u001b[0m: 'type' object does not support item assignment"
     ]
    }
   ],
   "source": [
    "# Tuples in parnetheses and can't be changed\n",
    "\n",
    "sample_tuple = (\"Hello Gavin\", 185, 3.14, \"Hi again\", 150.23)\n",
    "tiny_sample_tuple = (450, \"Gavin\")\n",
    "print (sample_tuple)\n",
    "print (tiny_sample_tuple *2)\n",
    "print (sample_tuple[0])\n",
    "print (sample_tuple[1:4])\n",
    "print (sample_tuple + tiny_sample_tuple) # They will produce the same result as a list but...\n",
    "\n",
    "tuple[2] = 500 # prints typ error but list would not"
   ]
  },
  {
   "cell_type": "code",
   "execution_count": 8,
   "metadata": {},
   "outputs": [
    {
     "name": "stdout",
     "output_type": "stream",
     "text": [
      " --- DICTIONARIES---\n",
      "This is the first element\n",
      "This is the second element\n",
      "{'name': 'Gavin', 'age': '43', 'id': 'zx300487', 'role': 'Student'}\n",
      "dict_values(['Gavin', '43', 'zx300487', 'Student'])\n"
     ]
    }
   ],
   "source": [
    "# Dictionaries: Key value pairs usuaully strings and numbers and use {} assigned []\n",
    "\n",
    "dictionary = {}\n",
    "dictionary [\"one\"] = \"This is the first element\"\n",
    "dictionary[2] = \"This is the second element\"\n",
    "\n",
    "tiny_dictionary = {\"name\": \"Gavin\", \"age\": \"43\", \"id\": \"zx300487\", \"role\": \"Student\"}\n",
    "\n",
    "print (\" --- DICTIONARIES---\")\n",
    "print (dictionary[\"one\"]) # Print the value of key one\n",
    "print (dictionary[2]) # Print the value of key 2\n",
    "print (tiny_dictionary) # Print tiny_dictionary\n",
    "print (tiny_dictionary.values()) # Print all the values\n",
    "\n"
   ]
  }
 ],
 "metadata": {
  "interpreter": {
   "hash": "31f2aee4e71d21fbe5cf8b01ff0e069b9275f58929596ceb00d14d90e3e16cd6"
  },
  "kernelspec": {
   "display_name": "Python 3.8.10 64-bit",
   "language": "python",
   "name": "python3"
  },
  "language_info": {
   "codemirror_mode": {
    "name": "ipython",
    "version": 3
   },
   "file_extension": ".py",
   "mimetype": "text/x-python",
   "name": "python",
   "nbconvert_exporter": "python",
   "pygments_lexer": "ipython3",
   "version": "3.8.10"
  },
  "orig_nbformat": 4
 },
 "nbformat": 4,
 "nbformat_minor": 2
}
