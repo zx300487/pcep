{
 "cells": [
  {
   "cell_type": "markdown",
   "metadata": {},
   "source": [
    "# PCEP Notes.\n",
    "\n",
    "## Variables"
   ]
  },
  {
   "cell_type": "code",
   "execution_count": 2,
   "metadata": {},
   "outputs": [
    {
     "name": "stdout",
     "output_type": "stream",
     "text": [
      "False\n",
      "True\n",
      "False\n"
     ]
    }
   ],
   "source": [
    "# Examples of passing variable:\n",
    "\n",
    "\n",
    "is_game_over = False\n",
    "print (is_game_over)\n",
    "is_game_over = True\n",
    "print (is_game_over)\n",
    "is_game_over = 5 > 6\n",
    "print (is_game_over) \n",
    "\n"
   ]
  },
  {
   "cell_type": "code",
   "execution_count": 4,
   "metadata": {},
   "outputs": [
    {
     "name": "stdout",
     "output_type": "stream",
     "text": [
      "5\n",
      "0.5\n"
     ]
    }
   ],
   "source": [
    "# Examples of numbers as variables\n",
    "\n",
    "num_lives = 5\n",
    "print (num_lives)\n",
    "percent_health = 0.5\n",
    "print (percent_health)"
   ]
  },
  {
   "cell_type": "code",
   "execution_count": 6,
   "metadata": {},
   "outputs": [
    {
     "name": "stdout",
     "output_type": "stream",
     "text": [
      "Gavin Davis\n"
     ]
    }
   ],
   "source": [
    "# Examples of variables as strings\n",
    "\n",
    "player_name = \"Gavin Davis\"\n",
    "print (player_name)"
   ]
  },
  {
   "cell_type": "markdown",
   "metadata": {},
   "source": [
    "# New Tutorial started on variables with Stackskills.\n",
    "\n",
    "Variables are a storage location using an identifier and value.\n"
   ]
  },
  {
   "cell_type": "code",
   "execution_count": 4,
   "metadata": {},
   "outputs": [
    {
     "name": "stdout",
     "output_type": "stream",
     "text": [
      "HELLO PYTHON - HELLO WORLD - HELLO STUDENTS\n",
      "100\n",
      "100\n",
      "HELLO WORLD\n",
      "100\n",
      "HELLO WORLD\n"
     ]
    }
   ],
   "source": [
    "print (\"HELLO PYTHON - HELLO WORLD - HELLO STUDENTS\")\n",
    "\n",
    "counter = 100   # An integer is declared as a variable\n",
    "a, b, c = counter, counter, message # Assign counter and message to a, b, c variables\n",
    "message = \"HELLO WORLD\" # A string variable\n",
    "\n",
    "print(a)    # Counter is stored in each\n",
    "print(b)\n",
    "print(c)\n",
    "print (counter)     # Prints variable\n",
    "print (message)     # Default is to print on a new line\n",
    "\n",
    "\n"
   ]
  },
  {
   "cell_type": "markdown",
   "metadata": {},
   "source": [
    "# DATA TYPES OF PYTHON\n",
    "\n",
    "### 1. Numbers\n",
    "### 2. String\n",
    "### 3. Lists\n",
    "### 4. Tuple\n",
    "### 5. Dictionary"
   ]
  },
  {
   "cell_type": "code",
   "execution_count": 11,
   "metadata": {},
   "outputs": [
    {
     "name": "stdout",
     "output_type": "stream",
     "text": [
      "How are you?\n",
      "H\n",
      "w a\n",
      "How are you? ... Hello People\n",
      "How are you?How are you?How are you?How are you?\n"
     ]
    }
   ],
   "source": [
    "var1 = 200 # 1. Number\n",
    "del var1 # Deletes the number object\n",
    "\n",
    "# Numeric Types\n",
    "# A. int = (integers)\n",
    "# B. float = (floating point numbers)\n",
    "# C. long = (long integers)\n",
    "# D. complex = (complex numbers)\n",
    "\n",
    "str = \"How are you?\" # string type\n",
    "print (str)\n",
    "print (str[0]) # Print the first character number zero is 1 REMEMBER!!\n",
    "print (str[2:5]) # Print character from the 3rd to the 5th ( remember zero!!)\n",
    "print (str + \" ... Hello People\") # Concatenation\n",
    "print (str * 4) # Print str variable 4 times "
   ]
  }
 ],
 "metadata": {
  "interpreter": {
   "hash": "31f2aee4e71d21fbe5cf8b01ff0e069b9275f58929596ceb00d14d90e3e16cd6"
  },
  "kernelspec": {
   "display_name": "Python 3.8.10 64-bit",
   "language": "python",
   "name": "python3"
  },
  "language_info": {
   "codemirror_mode": {
    "name": "ipython",
    "version": 3
   },
   "file_extension": ".py",
   "mimetype": "text/x-python",
   "name": "python",
   "nbconvert_exporter": "python",
   "pygments_lexer": "ipython3",
   "version": "3.8.10"
  },
  "orig_nbformat": 4
 },
 "nbformat": 4,
 "nbformat_minor": 2
}
