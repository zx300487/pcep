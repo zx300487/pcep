{
 "cells": [
  {
   "cell_type": "markdown",
   "metadata": {},
   "source": [
    "# PCEP Notes.\n",
    "\n",
    "## Variables"
   ]
  },
  {
   "cell_type": "code",
   "execution_count": 2,
   "metadata": {},
   "outputs": [
    {
     "name": "stdout",
     "output_type": "stream",
     "text": [
      "False\n",
      "True\n",
      "False\n"
     ]
    }
   ],
   "source": [
    "# Examples of passing variable:\n",
    "\n",
    "\n",
    "is_game_over = False\n",
    "print (is_game_over)\n",
    "is_game_over = True\n",
    "print (is_game_over)\n",
    "is_game_over = 5 > 6\n",
    "print (is_game_over) \n",
    "\n"
   ]
  },
  {
   "cell_type": "code",
   "execution_count": 4,
   "metadata": {},
   "outputs": [
    {
     "name": "stdout",
     "output_type": "stream",
     "text": [
      "5\n",
      "0.5\n"
     ]
    }
   ],
   "source": [
    "# Examples of numbers as variables\n",
    "\n",
    "num_lives = 5\n",
    "print (num_lives)\n",
    "percent_health = 0.5\n",
    "print (percent_health)"
   ]
  },
  {
   "cell_type": "code",
   "execution_count": 6,
   "metadata": {},
   "outputs": [
    {
     "name": "stdout",
     "output_type": "stream",
     "text": [
      "Gavin Davis\n"
     ]
    }
   ],
   "source": [
    "# Examples of variables as strings\n",
    "\n",
    "player_name = \"Gavin Davis\"\n",
    "print (player_name)"
   ]
  },
  {
   "cell_type": "markdown",
   "metadata": {},
   "source": [
    "# New Tutorial started on variables with Stackskills.\n",
    "\n",
    "Variables are a storage location using an identifier and value.\n"
   ]
  },
  {
   "cell_type": "code",
   "execution_count": 31,
   "metadata": {},
   "outputs": [
    {
     "name": "stdout",
     "output_type": "stream",
     "text": [
      "HELLO PYTHON - HELLO WORLD - HELLO STUDENTS\n",
      "100\n",
      "100\n",
      "HELLO WORLD\n",
      "100\n",
      "HELLO WORLD\n"
     ]
    }
   ],
   "source": [
    "def firstfunctionused():\n",
    "    \"This function will print Hello + the string variable\"\n",
    "    print (\"hello\" + str)\n",
    "    return\n",
    "\n",
    "\n",
    "\n",
    "print (\"HELLO PYTHON - HELLO WORLD - HELLO STUDENTS\")\n",
    "message = \"HELLO WORLD\" # A string variable\n",
    "\n",
    "counter = 100   # An integer is declared as a variable\n",
    "a, b, c = counter, counter, message # Assign counter and message to a, b, c variables\n",
    "\n",
    "print(a)    # Counter is stored in each\n",
    "print(b)\n",
    "print(c)\n",
    "print (counter)     # Prints variable\n",
    "print (message)     # Default is to print on a new line\n",
    "\n",
    "\n"
   ]
  },
  {
   "cell_type": "markdown",
   "metadata": {},
   "source": [
    "# DATA TYPES OF PYTHON\n",
    "\n",
    "### 1. Numbers\n",
    "### 2. String\n",
    "### 3. Lists\n",
    "### 4. Tuple\n",
    "### 5. Dictionary"
   ]
  },
  {
   "cell_type": "code",
   "execution_count": 11,
   "metadata": {},
   "outputs": [
    {
     "name": "stdout",
     "output_type": "stream",
     "text": [
      "How are you?\n",
      "H\n",
      "w a\n",
      "How are you? ... Hello People\n",
      "How are you?How are you?How are you?How are you?\n"
     ]
    }
   ],
   "source": [
    "var1 = 200 # 1. Number\n",
    "del var1 # Deletes the number object\n",
    "\n",
    "# Numeric Types\n",
    "# A. int = (integers)\n",
    "# B. float = (floating point numbers)\n",
    "# C. long = (long integers)\n",
    "# D. complex = (complex numbers)\n",
    "\n",
    "\n",
    "# Strings\n",
    "\n",
    "str = \"How are you?\" # string type\n",
    "print (str)\n",
    "print (str[0]) # Print the first character number zero is 1 REMEMBER!!\n",
    "print (str[2:5]) # Print character from the 3rd to the 5th ( remember zero!!)\n",
    "print (str + \" ... Hello People\") # Concatenation\n",
    "print (str * 4) # Print str variable 4 times "
   ]
  },
  {
   "cell_type": "markdown",
   "metadata": {},
   "source": [
    "# Data Types\n",
    "\n",
    "## Type/Represents/Range/Default values\n",
    "\n",
    "bool - Boolean value = True or False. Default False\n",
    "int - 32-bit signed integer type = -2,147,483,648 to +2,147,483,648. Default 0\n",
    "char - 16 bit Unicode character = U +0000 to U +ffff. Default Value '\\0' (escape character)\n",
    "float - 32 bit single-precision floating point type = -3.4 x 10^38 to +3.4 x10^38. Default 0.0F\n",
    "double - 64 bit double-precision floating point type - (+/-)5.0 x 10^324 (+/-) 1.7 x 10^308. Default 0.0D\n",
    "string - string of characters of any length.\n",
    "\n",
    "= is assigned to\n",
    "== is equal to exactly\n",
    "=== is equal to type and exactly\n",
    "\n"
   ]
  },
  {
   "cell_type": "code",
   "execution_count": 5,
   "metadata": {},
   "outputs": [
    {
     "name": "stdout",
     "output_type": "stream",
     "text": [
      " --- LISTS ---\n",
      "['Hello World', 150, 1.25, 'My name is Gavin', 100.25]\n",
      "[300, 'Gavin', 300, 'Gavin']\n",
      "Hello World\n",
      "[150, 1.25, 'My name is Gavin']\n",
      "['Hello World', 150, 1.25, 'My name is Gavin', 100.25, 300, 'Gavin']\n"
     ]
    }
   ],
   "source": [
    "# Python data Types\n",
    "\n",
    "#Lists (enclosed with square brackets seperated by comma and be different data type)\n",
    "\n",
    "list = [\"Hello World\", 150, 1.25, \"My name is Gavin\", 100.25]\n",
    "tinylist = [300, \"Gavin\"]\n",
    "\n",
    "print(\" --- LISTS ---\")\n",
    "print (list) # Print complete list\n",
    "print (tinylist * 2) # Pritn tinylist 2 times\n",
    "print (list[0]) # Print first item\n",
    "print(list[1:4]) # Prints 2nd to 4th item missing first as 0\n",
    "print(list+tinylist) # Print both list together as one list\n",
    "\n"
   ]
  },
  {
   "cell_type": "code",
   "execution_count": 7,
   "metadata": {},
   "outputs": [
    {
     "name": "stdout",
     "output_type": "stream",
     "text": [
      "('Hello Gavin', 185, 3.14, 'Hi again', 150.23)\n",
      "(450, 'Gavin', 450, 'Gavin')\n",
      "Hello Gavin\n",
      "(185, 3.14, 'Hi again')\n",
      "('Hello Gavin', 185, 3.14, 'Hi again', 150.23, 450, 'Gavin')\n"
     ]
    },
    {
     "ename": "TypeError",
     "evalue": "'type' object does not support item assignment",
     "output_type": "error",
     "traceback": [
      "\u001b[0;31m---------------------------------------------------------------------------\u001b[0m",
      "\u001b[0;31mTypeError\u001b[0m                                 Traceback (most recent call last)",
      "\u001b[0;32m/tmp/ipykernel_4768/2005922554.py\u001b[0m in \u001b[0;36m<module>\u001b[0;34m\u001b[0m\n\u001b[1;32m      9\u001b[0m \u001b[0mprint\u001b[0m \u001b[0;34m(\u001b[0m\u001b[0msample_tuple\u001b[0m \u001b[0;34m+\u001b[0m \u001b[0mtiny_sample_tuple\u001b[0m\u001b[0;34m)\u001b[0m \u001b[0;31m# They will produce the same result as a list but...\u001b[0m\u001b[0;34m\u001b[0m\u001b[0;34m\u001b[0m\u001b[0m\n\u001b[1;32m     10\u001b[0m \u001b[0;34m\u001b[0m\u001b[0m\n\u001b[0;32m---> 11\u001b[0;31m \u001b[0mtuple\u001b[0m\u001b[0;34m[\u001b[0m\u001b[0;36m2\u001b[0m\u001b[0;34m]\u001b[0m \u001b[0;34m=\u001b[0m \u001b[0;36m500\u001b[0m\u001b[0;34m\u001b[0m\u001b[0;34m\u001b[0m\u001b[0m\n\u001b[0m",
      "\u001b[0;31mTypeError\u001b[0m: 'type' object does not support item assignment"
     ]
    }
   ],
   "source": [
    "# Tuples in parnetheses and can't be changed\n",
    "\n",
    "sample_tuple = (\"Hello Gavin\", 185, 3.14, \"Hi again\", 150.23)\n",
    "tiny_sample_tuple = (450, \"Gavin\")\n",
    "print (sample_tuple)\n",
    "print (tiny_sample_tuple *2)\n",
    "print (sample_tuple[0])\n",
    "print (sample_tuple[1:4])\n",
    "print (sample_tuple + tiny_sample_tuple) # They will produce the same result as a list but...\n",
    "\n",
    "tuple[2] = 500 # prints typ error but list would not"
   ]
  },
  {
   "cell_type": "code",
   "execution_count": 8,
   "metadata": {},
   "outputs": [
    {
     "name": "stdout",
     "output_type": "stream",
     "text": [
      " --- DICTIONARIES---\n",
      "This is the first element\n",
      "This is the second element\n",
      "{'name': 'Gavin', 'age': '43', 'id': 'zx300487', 'role': 'Student'}\n",
      "dict_values(['Gavin', '43', 'zx300487', 'Student'])\n"
     ]
    }
   ],
   "source": [
    "# Dictionaries: Key value pairs usuaully strings and numbers and use {} assigned []\n",
    "\n",
    "dictionary = {}\n",
    "dictionary [\"one\"] = \"This is the first element\"\n",
    "dictionary[2] = \"This is the second element\"\n",
    "\n",
    "tiny_dictionary = {\"name\": \"Gavin\", \"age\": \"43\", \"id\": \"zx300487\", \"role\": \"Student\"}\n",
    "\n",
    "print (\" --- DICTIONARIES---\")\n",
    "print (dictionary[\"one\"]) # Print the value of key one\n",
    "print (dictionary[2]) # Print the value of key 2\n",
    "print (tiny_dictionary) # Print tiny_dictionary\n",
    "print (tiny_dictionary.values()) # Print all the values\n",
    "\n"
   ]
  },
  {
   "cell_type": "markdown",
   "metadata": {},
   "source": [
    "# Python Data Type conversion"
   ]
  },
  {
   "cell_type": "code",
   "execution_count": 13,
   "metadata": {},
   "outputs": [
    {
     "name": "stdout",
     "output_type": "stream",
     "text": [
      "20\n",
      "30\n",
      "10.4\n",
      "33.5\n"
     ]
    }
   ],
   "source": [
    "print (int(\"20\")) # int converts the string to 20 decimal integer\n",
    "print (int(20) + 10)\n",
    "\n",
    "print (float(\"10.4\")) # Float converts string to decimal float eg 10.4\n",
    "print(float(10.4) + 23.1)\n"
   ]
  },
  {
   "cell_type": "markdown",
   "metadata": {},
   "source": [
    "# Variable operators\n",
    "\n",
    "## Expression           ## Description\n",
    "\n",
    "*                       Multiplication\n",
    "**                      Square\n",
    "/                       Division\n",
    "//                      Floor Division\n",
    "%                       Modulos/Remainder\n",
    "x && y                  Evaluate y if x is True\n",
    "x || y                  Evaluates y only if x is false\n",
    "x == y                  Equals\n",
    "x != y                  Different than\n",
    "x >= y                  More or Equal\n",
    "x <= y                  Less or Equal\n"
   ]
  },
  {
   "cell_type": "markdown",
   "metadata": {},
   "source": [
    "# Conditional Statements\n",
    "\n",
    "## If-Statements and conditional logic\n"
   ]
  },
  {
   "cell_type": "code",
   "execution_count": 20,
   "metadata": {},
   "outputs": [
    {
     "name": "stdout",
     "output_type": "stream",
     "text": [
      " --- If Statements ---\n",
      "The value of the variable is 5000\n"
     ]
    }
   ],
   "source": [
    "# If statement (boolean expression follwed by 1 or more)\n",
    "\n",
    "print (\" --- If Statements ---\")\n",
    "var1 = 5000\n",
    "\n",
    "if (var1 == 5000):\n",
    "    print (\"The value of the variable is 5000\") # Nested and executed as if is True\n",
    "\n"
   ]
  },
  {
   "cell_type": "code",
   "execution_count": 18,
   "metadata": {},
   "outputs": [
    {
     "name": "stdout",
     "output_type": "stream",
     "text": [
      " --- If Statements ---\n",
      "This is the else command\n"
     ]
    }
   ],
   "source": [
    "# If-Else statement (boolean expression follwed by 1 or more)\n",
    "\n",
    "print (\" --- If-Else Statements ---\")\n",
    "var1 = 5000\n",
    "\n",
    "if (var1 == 4000):\n",
    "    print (\"The value of the variable is 3000\") # Nested and executed as if is True\n",
    "\n",
    "else:\n",
    "    print(\"This is the else command\") # P"
   ]
  },
  {
   "cell_type": "code",
   "execution_count": 4,
   "metadata": {},
   "outputs": [
    {
     "name": "stdout",
     "output_type": "stream",
     "text": [
      " --- If-Else-Elif Statements ---\n",
      "This value is wrong!\n",
      "var2 is 4000\n"
     ]
    }
   ],
   "source": [
    "# If statement (boolean expression follwed by 1 or more)\n",
    "\n",
    "print (\" --- If-Else-Elif Statements ---\")\n",
    "var1 = 36000\n",
    "\n",
    "if (var1 == 3000):\n",
    "    print (\"The value of the variable is 3000\") # Nested and executed as if is True\n",
    "\n",
    "elif (var1 == 4000):\n",
    "    print(\"The value is 4000\") # Nested and executed as if is True\n",
    "\n",
    "elif (var1 == 5000):\n",
    "    print (var1) # Nested and executed as if is True\n",
    "    print (\"The value is 5000\") # Nested and executed as if is True\n",
    "else:\n",
    "    print(\"This value is wrong!\") # Nested and executed as if is False\n",
    "\n",
    "\n",
    "# Nested if statement\n",
    "\n",
    "var1 = 3000\n",
    "\n",
    "if (var1 == 3000):\n",
    "    var2 = 4000\n",
    "    if (var2 == 4000):\n",
    "        print (\"var2 is 4000\")\n",
    "\n",
    "    else:\n",
    "        print (\"var1 is not 3000\")\n"
   ]
  },
  {
   "cell_type": "code",
   "execution_count": 4,
   "metadata": {},
   "outputs": [
    {
     "name": "stdout",
     "output_type": "stream",
     "text": [
      " --- WHILE LOOP ---\n",
      "The value of i is 0\n",
      "The value of i is 1\n",
      "The value of i is 2\n",
      "The value of i is 3\n",
      "The value of i is 4\n",
      "The value of i is >= 5, it is  5\n",
      "End of program!!\n"
     ]
    }
   ],
   "source": [
    "# Loops\n",
    "\n",
    "# 1st loop example: While\n",
    "\n",
    "print (\" --- WHILE LOOP ---\")\n",
    "\n",
    "i = 0\n",
    "\n",
    "while (i < 5):\n",
    "    print (\"The value of i is\", i)\n",
    "    i = i + 1   #iterates up one each time\n",
    "\n",
    "else:\n",
    "    print(\"The value of i is >= 5, it is \", i)\n",
    "\n",
    "print (\"End of program!!\")\n"
   ]
  },
  {
   "cell_type": "code",
   "execution_count": 7,
   "metadata": {},
   "outputs": [
    {
     "name": "stdout",
     "output_type": "stream",
     "text": [
      "--- FOR LOOPS ---\n",
      "Current name:  Gavin\n",
      "Current name:  mojo\n",
      "Current name:  risin\n",
      "mojo\n",
      "End of Program\n"
     ]
    }
   ],
   "source": [
    "# For Loops Example:\n",
    "\n",
    "print (\"--- FOR LOOPS ---\")\n",
    "\n",
    "names = [\"Gavin\", \"mojo\", \"risin\"]\n",
    "\n",
    "for name in names:\n",
    "    print (\"Current name: \", name)  # Prints string and variable == name\n",
    "print (names[1])                    # Picks the variable from the index\n",
    "\n",
    "print (\"End of Program\")"
   ]
  },
  {
   "cell_type": "code",
   "execution_count": 8,
   "metadata": {},
   "outputs": [
    {
     "name": "stdout",
     "output_type": "stream",
     "text": [
      " ---FOR LOOPS---\n",
      "The value of i is:  0\n",
      "The value of i is:  1\n",
      "The value of i is:  2\n",
      "The value of i is:  3\n",
      "The value of i is:  4\n",
      "The value of i is:  5\n",
      "End Program!\n"
     ]
    }
   ],
   "source": [
    "# For loop example\n",
    "\n",
    "print (\" ---FOR LOOPS---\")\n",
    "\n",
    "i = 10\n",
    "\n",
    "for i in range (0, 5):\n",
    "    print (\"The value of i is: \", i)\n",
    "    i = i + 1\n",
    "else:\n",
    "    print(\"The value of i is: \", i)\n",
    "    \n",
    "    print (\"End Program!\")"
   ]
  },
  {
   "cell_type": "code",
   "execution_count": 32,
   "metadata": {},
   "outputs": [
    {
     "name": "stdout",
     "output_type": "stream",
     "text": [
      " ---Nested While Loop--- \n",
      "The value of i is:  0\n",
      "The j value is:  0\n",
      "The value of i is:  1\n",
      "The j value is:  0\n",
      "The j value is:  1\n",
      "The value of i is:  2\n",
      "The j value is:  0\n",
      "The j value is:  1\n",
      "The j value is:  2\n",
      "The value of i is:  3\n",
      "The j value is:  0\n",
      "The j value is:  1\n",
      "The j value is:  2\n",
      "The j value is:  3\n",
      "The value of i is:  4\n",
      "The Value of i is equal or more than 5, it is  5\n",
      "End Program!!\n"
     ]
    }
   ],
   "source": [
    "# Nested while example loop\n",
    "\n",
    "print (\" ---Nested While Loop--- \")\n",
    "\n",
    "i = 0\n",
    "\n",
    "while (i<5):\n",
    "    j = 0\n",
    "    while (j < i):\n",
    "        print (\"The j value is: \", j)\n",
    "        j = j + 1\n",
    "    print (\"The value of i is: \", i)\n",
    "    i = i + 1\n",
    "    \n",
    "else:\n",
    "    print (\"The Value of i is equal or more than 5, it is \", i)\n",
    "print (\"End Program!!\")"
   ]
  },
  {
   "cell_type": "code",
   "execution_count": 33,
   "metadata": {},
   "outputs": [
    {
     "name": "stdout",
     "output_type": "stream",
     "text": [
      "You typed hello\n",
      "Name of file is myfile.txt\n",
      "It is  False\n",
      "It is  w\n",
      "Hello Beautiful World Hello Beautiful World\n"
     ]
    }
   ],
   "source": [
    "# File input and output\n",
    "\n",
    "str = input(\"Type something with your keybard: \")   # read line from stdin \n",
    "\n",
    "print (\"You typed\", str)    # returnes varibale input.\n",
    "\n",
    "f = open(\"myfile.txt\", \"w\") # opens file on computer in wrote mode\n",
    "\n",
    "print (\"Name of file is\", f.name) # Name of file\n",
    "print (\"It is \", f.closed)  # Tells is it is close this case False\n",
    "print (\"It is \", f.mode)    # Tells the mode\n",
    "f.write (\"Hello Beautiful World\" + \" \")   # write to the file\n",
    "f.write (\"Hello Beautiful World\")   # write to the file\n",
    "\n",
    "f = open (\"myfile.txt\", \"r\")    # puts file in read mode\n",
    "str = f.read() # read what was saved previous\n",
    "print (str) # prints the input in stored variable\n",
    "f.close()   # closes file"
   ]
  }
 ],
 "metadata": {
  "interpreter": {
   "hash": "31f2aee4e71d21fbe5cf8b01ff0e069b9275f58929596ceb00d14d90e3e16cd6"
  },
  "kernelspec": {
   "display_name": "Python 3.8.10 64-bit",
   "language": "python",
   "name": "python3"
  },
  "language_info": {
   "codemirror_mode": {
    "name": "ipython",
    "version": 3
   },
   "file_extension": ".py",
   "mimetype": "text/x-python",
   "name": "python",
   "nbconvert_exporter": "python",
   "pygments_lexer": "ipython3",
   "version": "3.8.10"
  },
  "orig_nbformat": 4
 },
 "nbformat": 4,
 "nbformat_minor": 2
}
