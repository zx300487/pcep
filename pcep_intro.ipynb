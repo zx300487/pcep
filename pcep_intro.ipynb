{
 "cells": [
  {
   "cell_type": "code",
   "execution_count": 14,
   "metadata": {},
   "outputs": [
    {
     "name": "stdout",
     "output_type": "stream",
     "text": [
      "False\n",
      "True\n",
      "False\n"
     ]
    }
   ],
   "source": [
    "#Bool\n",
    "\n",
    "is_game_over = False\n",
    "print(is_game_over)\n",
    "is_game_over = True\n",
    "print(is_game_over)\n",
    "is_game_over = 5 > 6\n",
    "print(is_game_over)\n"
   ]
  },
  {
   "cell_type": "code",
   "execution_count": 15,
   "metadata": {},
   "outputs": [
    {
     "name": "stdout",
     "output_type": "stream",
     "text": [
      "5\n",
      "0.5\n"
     ]
    }
   ],
   "source": [
    "#int\n",
    "num_lives = 5\n",
    "print(num_lives)\n",
    "#float\n",
    "percent_health = 0.5\n",
    "print(percent_health)\n"
   ]
  },
  {
   "cell_type": "code",
   "execution_count": 16,
   "metadata": {},
   "outputs": [
    {
     "name": "stdout",
     "output_type": "stream",
     "text": [
      "Gavin\n",
      "m0j0\n"
     ]
    }
   ],
   "source": [
    "#string\n",
    "player_name = \"Gavin\"\n",
    "print(player_name)\n",
    "player_name = \"m0j0\"\n",
    "print(player_name)\n",
    "\n"
   ]
  },
  {
   "cell_type": "code",
   "execution_count": 17,
   "metadata": {},
   "outputs": [
    {
     "name": "stdout",
     "output_type": "stream",
     "text": [
      "<class 'bool'>\n",
      "<class 'int'>\n",
      "<class 'float'>\n",
      "<class 'str'>\n",
      "<class 'int'>\n"
     ]
    }
   ],
   "source": [
    "print(type(is_game_over))\n",
    "print(type(num_lives))\n",
    "print(type(percent_health))\n",
    "print(type(player_name))\n",
    "\n",
    "num_lives = 5\n",
    "print(type(num_lives))"
   ]
  },
  {
   "cell_type": "code",
   "execution_count": 18,
   "metadata": {},
   "outputs": [
    {
     "name": "stdout",
     "output_type": "stream",
     "text": [
      "<class 'int'>\n",
      "<class 'str'>\n"
     ]
    }
   ],
   "source": [
    "num_lives = 5\n",
    "# num_lives = \"5\"\n",
    "str_num_lives = str(num_lives)\n",
    "print(type(num_lives))\n",
    "print(type(str_num_lives))"
   ]
  },
  {
   "cell_type": "code",
   "execution_count": 19,
   "metadata": {},
   "outputs": [
    {
     "name": "stdout",
     "output_type": "stream",
     "text": [
      "False\n",
      "True\n"
     ]
    }
   ],
   "source": [
    "#bools\n",
    "\n",
    "print(bool(0))\n",
    "print(bool(1))"
   ]
  },
  {
   "cell_type": "code",
   "execution_count": 20,
   "metadata": {},
   "outputs": [
    {
     "name": "stdout",
     "output_type": "stream",
     "text": [
      "1\n",
      "0\n",
      "0\n",
      "1\n"
     ]
    }
   ],
   "source": [
    "#print(int(\"asadasdsad\"))\n",
    "print(int(1))\n",
    "print(int(0.5))\n",
    "print(int(False))\n",
    "print(int(True))\n"
   ]
  },
  {
   "cell_type": "code",
   "execution_count": 21,
   "metadata": {},
   "outputs": [
    {
     "name": "stdout",
     "output_type": "stream",
     "text": [
      "1.0\n",
      "0.5\n",
      "0.0\n",
      "1.0\n"
     ]
    }
   ],
   "source": [
    "print(float(1))\n",
    "print(float(0.5))\n",
    "print(float(False))\n",
    "print(float(True))"
   ]
  },
  {
   "cell_type": "code",
   "execution_count": 22,
   "metadata": {},
   "outputs": [
    {
     "name": "stdout",
     "output_type": "stream",
     "text": [
      "50\n",
      "70\n",
      "1\n",
      "2\n",
      "25\n",
      "5\n",
      "Gavin Davis\n",
      "70\n",
      "20\n",
      "Gavin\n",
      "Gavin Davis\n"
     ]
    }
   ],
   "source": [
    "# Operators changing variables\n",
    "\n",
    "health = 50\n",
    "new_health = health + 20\n",
    "print(health)\n",
    "health = health + 20\n",
    "print(health)\n",
    "\n",
    "#Modulos floor division\n",
    "\n",
    "xPos = 5\n",
    "print(xPos % 2)\n",
    "print(xPos // 2)\n",
    "print(xPos ** 2)\n",
    "print(xPos)\n",
    "\n",
    "#String concat\n",
    "\n",
    "first_name = \"Gavin\"\n",
    "last_name = \"Davis\"\n",
    "print(first_name + \" \" + last_name)\n",
    "\n",
    "# Assisgment operators\n",
    "\n",
    "health = 50\n",
    "health += 20\n",
    "print(health)\n",
    "health -= 50\n",
    "print(health)\n",
    "name = \"Gavin\"\n",
    "print(name)\n",
    "name += \" Davis\"\n",
    "print(name)\n",
    "\n"
   ]
  },
  {
   "cell_type": "code",
   "execution_count": 23,
   "metadata": {},
   "outputs": [
    {
     "name": "stdout",
     "output_type": "stream",
     "text": [
      "True\n",
      "<class 'bool'>\n",
      "False\n",
      "True\n",
      "True\n",
      "True\n"
     ]
    }
   ],
   "source": [
    "# >, >=, <, <=, ==, !=  always returns true or false\n",
    "\n",
    "result = 5 > 2\n",
    "print(result)\n",
    "print(type(result))\n",
    "print (5 == 2)\n",
    "print (5 != 2)\n",
    "print (5 != health)\n",
    "print (5.0 == 5)\n"
   ]
  },
  {
   "cell_type": "code",
   "execution_count": 24,
   "metadata": {},
   "outputs": [
    {
     "name": "stdout",
     "output_type": "stream",
     "text": [
      "False\n",
      "False\n",
      "False\n"
     ]
    }
   ],
   "source": [
    "a = \"a\"\n",
    "a_ = \"A\"\n",
    "print(True == False)\n",
    "print(first_name == last_name)\n",
    "print(a == a_)\n",
    "b = \"1\"\n",
    "#print (a > b)"
   ]
  },
  {
   "cell_type": "code",
   "execution_count": 25,
   "metadata": {},
   "outputs": [
    {
     "name": "stdout",
     "output_type": "stream",
     "text": [
      "True\n"
     ]
    }
   ],
   "source": [
    "# not and or\n",
    "\n",
    "is_game_over = False\n",
    "is_game_over = not is_game_over\n",
    "print(is_game_over)"
   ]
  },
  {
   "cell_type": "code",
   "execution_count": 26,
   "metadata": {},
   "outputs": [
    {
     "name": "stdout",
     "output_type": "stream",
     "text": [
      "True\n"
     ]
    }
   ],
   "source": [
    "health = 0\n",
    "lives = 0\n",
    "print(health <= 0 and lives <= 0)\n"
   ]
  },
  {
   "cell_type": "code",
   "execution_count": 27,
   "metadata": {},
   "outputs": [
    {
     "name": "stdout",
     "output_type": "stream",
     "text": [
      "False\n",
      "True\n"
     ]
    }
   ],
   "source": [
    "health = 1\n",
    "lives = 0\n",
    "print(health <= 0 and lives <= 0)\n",
    "print(health <= 0 or lives <= 0)\n"
   ]
  },
  {
   "cell_type": "code",
   "execution_count": 28,
   "metadata": {},
   "outputs": [
    {
     "name": "stdout",
     "output_type": "stream",
     "text": [
      "Sword\n",
      "['Sword', 'Apples', 'Boots']\n",
      "3\n",
      "Sword\n",
      "Apples\n",
      "['Knife', 'Sword', 'Apples', 'Boots', 'Hat']\n",
      "['Knife', 'Apples', 'Boots']\n"
     ]
    }
   ],
   "source": [
    "inventory = ['Sword', 'Bread', 'Boots']  #create a list\n",
    "sword = inventory[0]  # Assign first item to sword variable\n",
    "print(sword)\n",
    "inventory[1] = 'Apples' # Change list by replacing item2 with Apples variable\n",
    "print(inventory)\n",
    "\n",
    "print(len(inventory))\n",
    "print(max(inventory))\n",
    "print(min(inventory))\n",
    "\n",
    "inventory.append('Hat') # Add item to the end of inventory\n",
    "inventory.insert(0, 'Knife')  #Add item at specific index\n",
    "print(inventory)\n",
    "\n",
    "inventory.pop() # remove last item from\n",
    "inventory.remove('Sword')\n",
    "print(inventory)\n",
    "\n",
    "#inventory.clear() #remove everything from inventory\n"
   ]
  },
  {
   "cell_type": "code",
   "execution_count": 29,
   "metadata": {},
   "outputs": [
    {
     "name": "stdout",
     "output_type": "stream",
     "text": [
      "[[1, 2, 3], [1, 2, 3, 4], [1, 2], [1, 2, 3]]\n",
      "2\n",
      "4\n",
      "[[1, 2, 3], [1, 2, 3, 4], [1, 2], [1, 2, 3], [1, 2, 3, 4, 5]]\n",
      "[[1, 2, 3], [1, 2, 3], [1, 2], [1, 2, 3], [1, 2, 3, 4, 5]]\n"
     ]
    }
   ],
   "source": [
    "#Multidimensional lists (lists in lists)\n",
    "\n",
    "#universe = [[],[],[],[]] #empty lists in list\n",
    "universe = [[1,2,3,],\n",
    "            [1,2,3,4],\n",
    "            [1,2],\n",
    "            [1,2,3]]\n",
    "print(universe)\n",
    "\n",
    "# to pick a specific item I need to choose row and then comlum so 9th item is\n",
    "\n",
    "ninth_world = universe[2][1]\n",
    "print(ninth_world)\n",
    "\n",
    "seventh_world = universe[1][3]\n",
    "print(seventh_world)\n",
    "\n",
    "#Add to the lists in the list of universe\n",
    "\n",
    "universe.append([1,2,3,4,5])\n",
    "print(universe)\n",
    "\n",
    "# remmove list from the list of universe\n",
    "universe[1].pop()\n",
    "print(universe)\n",
    "\n"
   ]
  },
  {
   "cell_type": "code",
   "execution_count": 30,
   "metadata": {},
   "outputs": [
    {
     "name": "stdout",
     "output_type": "stream",
     "text": [
      "Health Kit\n",
      "4\n",
      "('Knife', 1)\n",
      "1\n",
      "1\n",
      "2\n"
     ]
    }
   ],
   "source": [
    "# Tuples are immutable you can't change them.\n",
    "\n",
    "item = (\"Health Kit\", 4)\n",
    "name = item[0]\n",
    "print(name) # name of the indexed item value is printed in\n",
    "quantity = item[1]\n",
    "print(quantity) # quanitity at index is printed\n",
    "\n",
    "# assigning value to item value\n",
    "\n",
    "item = (\"Knife\", 1)\n",
    "print(item) # name of the indexed item:value assigned to variable is printed\n",
    "\n",
    "print(item.count(\"Knife\"))\n",
    "print(item.index(1)) #printed the counts and index numbers\n",
    "\n",
    "#Can count more as such\n",
    "\n",
    "items = (\"Knife\", 1, \"Knife\")\n",
    "print(items.count(\"Knife\")) #Changed variable to items and 2 are counted.\n"
   ]
  },
  {
   "cell_type": "code",
   "execution_count": 31,
   "metadata": {},
   "outputs": [
    {
     "name": "stdout",
     "output_type": "stream",
     "text": [
      "{'Knife': 1, 'Health Kit': 3, 'Wood': 5}\n",
      "3\n",
      "{'Knife': 2, 'Health Kit': 3, 'Wood': 5}\n",
      "{'Knife': 2, 'Health Kit': 3, 'Wood': 5, 'Gold': 50}\n"
     ]
    }
   ],
   "source": [
    "# Dictionaries are a key value pair\n",
    "# Position doesnt matter key does \n",
    "# Curly braces used {key:value} colom seperates\n",
    "\n",
    "inventory = {\"Knife\":1, \"Health Kit\":3, \"Wood\":5}\n",
    "print(inventory)\n",
    "\n",
    "print(inventory[\"Health Kit\"]) # Gets value of the key value\n",
    "\n",
    "inventory [\"Knife\"] = 2 # Changes value of key\n",
    "print(inventory)\n",
    "\n",
    "inventory[\"Gold\"] = 50 # automatically adds to dictionary\n",
    "print(inventory)\n",
    "\n"
   ]
  },
  {
   "cell_type": "code",
   "execution_count": 32,
   "metadata": {},
   "outputs": [
    {
     "name": "stdout",
     "output_type": "stream",
     "text": [
      "None\n",
      "dict_keys(['Knife', 'Health Kit', 'Wood'])\n",
      "dict_values([1, 3, 5])\n",
      "{'Health Kit': 3, 'Wood': 5}\n"
     ]
    }
   ],
   "source": [
    "inventory = {\"Knife\":1, \"Health Kit\":3, \"Wood\":5}\n",
    "\n",
    "#print(inventory[\"Gold\"]) crashes program use get\n",
    "\n",
    "print(inventory.get(\"Gold\"))\n",
    "\n",
    "print(inventory.keys())\n",
    "print(inventory.values()) #Give a printed result of the dict_keys, values\n",
    "\n",
    "inventory.pop(\"Knife\") #remove the knife\n",
    "print(inventory)\n",
    "#print(inventory.pop(\"Knife\")) #return a value of key\n",
    "\n",
    "#inventory.clear() # clears whole dictioary"
   ]
  },
  {
   "cell_type": "markdown",
   "metadata": {},
   "source": [
    "### Test commit on pi\n"
   ]
  },
  {
   "cell_type": "code",
   "execution_count": 41,
   "metadata": {},
   "outputs": [
    {
     "name": "stdout",
     "output_type": "stream",
     "text": [
      "0\n",
      "9\n",
      "0\n",
      "9\n",
      "[10, 9, 8, 7, 6, 5, 4, 3, 2, 1, 0]\n",
      "8\n",
      "True\n",
      "False\n",
      "False\n",
      "True\n",
      "[1, 3, 5, 7, 9]\n",
      "[0, 2, 4, 6, 8, 10]\n",
      "[0, 10, 20, 30, 40, 50, 60, 70, 80, 90, 100]\n"
     ]
    }
   ],
   "source": [
    "# Ranges lists of consecutive whole numbers (even or odd)\n",
    "\n",
    "#range(start, stop, end)\n",
    "\n",
    "first_ten = range(10)\n",
    "print(first_ten[0])\n",
    "print(first_ten[9])\n",
    "\n",
    "# remember the numbering system 1 begins at 0\n",
    "\n",
    "first_ten = range(0,11)\n",
    "print(first_ten[0])\n",
    "print(first_ten[9])\n",
    "\n",
    "# reverse operator\n",
    "\n",
    "reversed_ten = reversed(first_ten)\n",
    "# print(reversed_ten) Gives an error so have to convert to list\n",
    "reversed_ten = list(reversed_ten)\n",
    "print(reversed_ten)\n",
    "print(reversed_ten[2])\n",
    "\n",
    "\n",
    "# in and not in operators (boolean return)\n",
    "\n",
    "print(5 in first_ten)\n",
    "print(5 not in first_ten)\n",
    "print(15 in first_ten)\n",
    "print(15 not in first_ten)\n",
    "\n",
    "# step operator skip\n",
    "\n",
    "print(list(range(1,11,2))) # prints odd numbers skipping 2 steps\n",
    "print(list(range(0,11,2))) # even numbers\n",
    "print(list(range(0,110,10)))"
   ]
  },
  {
   "cell_type": "code",
   "execution_count": 1,
   "metadata": {},
   "outputs": [],
   "source": [
    "# Elif Statements\n",
    "\n",
    "### Provide an extra if statement\n",
    "### Only executed if previous tests fail"
   ]
  },
  {
   "cell_type": "code",
   "execution_count": 8,
   "metadata": {},
   "outputs": [
    {
     "name": "stdout",
     "output_type": "stream",
     "text": [
      "Move Right\n",
      "10\n"
     ]
    }
   ],
   "source": [
    "key_press = 'r'  # change variable from r to l to anything else for print\n",
    "if key_press == 'r':\n",
    "    print(\"Move Right\")\n",
    "\n",
    "elif key_press == 'l':\n",
    "    print(\"Move Left\")\n",
    "\n",
    "else:\n",
    "    print(\"Invalid Key\")\n",
    "\n",
    "# Ternaryy Operation is another method to test in one line\n",
    "\n",
    "# example_1 command = \"Move right\" if key_press == \"r\" else \"Move left\"\n",
    "# Program to demonstrate conditional operator\n",
    "a, b = 10, 20\n",
    "\n",
    "# Copy value of a in min if a < b else copy b\n",
    "min = a if a < b else b\n",
    "\n",
    "print(min)\n",
    " "
   ]
  },
  {
   "cell_type": "code",
   "execution_count": 10,
   "metadata": {},
   "outputs": [
    {
     "name": "stdout",
     "output_type": "stream",
     "text": [
      "You Died!!\n"
     ]
    }
   ],
   "source": [
    "# Consecutive ìf statements\n",
    "\n",
    "num_lives = 3 \n",
    "health = 100 # if health changes it will display certain message depending on value\n",
    "\n",
    "if health >= 0:\n",
    "    print(\"You Died!!\")\n",
    "\n",
    "elif health > 10:\n",
    "    print(\"Warning, health less than 10%\")\n",
    "\n",
    "elif health > 50:\n",
    "    print(\"Warning, health less than 50%\")"
   ]
  },
  {
   "cell_type": "code",
   "execution_count": 12,
   "metadata": {},
   "outputs": [
    {
     "name": "stdout",
     "output_type": "stream",
     "text": [
      "You Died!!\n"
     ]
    }
   ],
   "source": [
    "# Nested if statements\n",
    "\n",
    "num_lives = 3\n",
    "health = 0\n",
    "if health <= 0:\n",
    "    print(\"You Died!!\")"
   ]
  },
  {
   "cell_type": "code",
   "execution_count": 16,
   "metadata": {},
   "outputs": [
    {
     "name": "stdout",
     "output_type": "stream",
     "text": [
      "You lose a life!!\n",
      "You Died!!\n"
     ]
    }
   ],
   "source": [
    "# nested continued with 2 checks for lives\n",
    "\n",
    "num_lives = 1  # Changing to 1 produces the final result of the nested statement \n",
    "health = 0\n",
    "if health <= 0:\n",
    "    num_lives -= 1  # subtract a live away from initial variable value\n",
    "    print(\"You lose a life!!\")\n",
    "    if num_lives <=0:\n",
    "        print(\"You Died!!\")\n",
    "\n"
   ]
  },
  {
   "cell_type": "code",
   "execution_count": 26,
   "metadata": {},
   "outputs": [
    {
     "name": "stdout",
     "output_type": "stream",
     "text": [
      "2\n",
      "Added Health Kit, Health now 100%!!!\n"
     ]
    }
   ],
   "source": [
    "# add one liner and another variable like health kit\n",
    "\n",
    "num_lives = 3 \n",
    "num_health_kits = 3\n",
    "health = 0\n",
    "if health <= 0 and num_health_kits <= 0:\n",
    "    num_lives -=1\n",
    "    print(\"You lose a life\")\n",
    "    if num_lives <= 0:\n",
    "        print(\"You Died!!!\")\n",
    "\n",
    "elif health <= 0 and num_health_kits >=0:  # This allows me to check the amount of health kits and                                                  restore health to 100\n",
    "    health = 100\n",
    "    num_health_kits -=1                     # takes health kit away\n",
    "    print(num_health_kits)\n",
    "    print(\"Added Health Kit, Health now 100%!!!\")\n",
    "\n",
    "elif health > 10:\n",
    "    print(\"Warning, health less than 10%\")\n",
    "\n",
    "elif health > 50:\n",
    "    print(\"Warning, health less than 50%\")\n",
    "\n"
   ]
  },
  {
   "cell_type": "code",
   "execution_count": 2,
   "metadata": {},
   "outputs": [
    {
     "name": "stdout",
     "output_type": "stream",
     "text": [
      "1\n",
      "2\n",
      "3\n",
      "4\n",
      "5\n",
      "You have reached the end!!\n"
     ]
    }
   ],
   "source": [
    "# While loops\n",
    "# Example 1 \n",
    "\n",
    "x_pos = 0\n",
    "end_pos = 5\n",
    "\n",
    "while x_pos < end_pos:\n",
    "    x_pos += 1\n",
    "    print(x_pos)\n",
    "\n",
    "print(\"You have reached the end!!\")"
   ]
  },
  {
   "cell_type": "code",
   "execution_count": 6,
   "metadata": {},
   "outputs": [
    {
     "name": "stdout",
     "output_type": "stream",
     "text": [
      "1\n",
      "2\n",
      "3\n",
      "You have collided with the enemy!!\n",
      "Game Over!!\n"
     ]
    }
   ],
   "source": [
    "# While loops\n",
    "# Example 2\n",
    "\n",
    "x_pos = 0\n",
    "end_pos = 5\n",
    "enemy_pos = 3\n",
    "\n",
    "while x_pos < end_pos:\n",
    "    x_pos += 1                      # adds onto x_pos by 1\n",
    "    print(x_pos)\n",
    "    if x_pos == enemy_pos:\n",
    "        print(\"You have collided with the enemy!!\")\n",
    "        break                       # Conditon is met at 3 and the program breaks\n",
    "\n",
    "print(\"Game Over!!\")"
   ]
  },
  {
   "cell_type": "code",
   "execution_count": 9,
   "metadata": {},
   "outputs": [
    {
     "name": "stdout",
     "output_type": "stream",
     "text": [
      "1\n",
      "2\n",
      "3\n",
      "4\n",
      "5\n",
      "Game Over!!\n"
     ]
    }
   ],
   "source": [
    "# While loops\n",
    "# Example 3\n",
    "\n",
    "x_pos = 0 \n",
    "y_pos = 1                        # mimic a control in a game moving \n",
    "end_pos = 5\n",
    "enemy_pos = 3\n",
    "while x_pos < end_pos:\n",
    "    x_pos += 1\n",
    "    print(x_pos)\n",
    "    if y_pos > 0:                # Checks the position\n",
    "        continue                 # forces onto next iteration and does not execute next code.\n",
    "    if x_pos == enemy_pos:\n",
    "        print(\"You have collided with the enemy!!\")\n",
    "        break                       # Conditon is met at 3 and the program breaks\n",
    "\n",
    "print(\"Game Over!!\")\n",
    "    "
   ]
  },
  {
   "cell_type": "code",
   "execution_count": 36,
   "metadata": {},
   "outputs": [
    {
     "name": "stdout",
     "output_type": "stream",
     "text": [
      "Sword\n",
      "Arrow\n",
      "Bow\n",
      "Boots\n"
     ]
    }
   ],
   "source": [
    "# For in loops\n",
    "# for var in range/list/tuple/dict:\n",
    "#    code\n",
    "\n",
    "# Simple range example\n",
    "\n",
    "#\n",
    "# for i in range (1, 6):\n",
    "#\n",
    "#     print(i)\n",
    "\n",
    "#Simple list example\n",
    "\n",
    "inventory = [\"Sword\", \"Arrow\", \"Bow\", \"Boots\"]\n",
    "\n",
    "for item in inventory:\n",
    "    print(item)\n",
    "\n",
    "\n",
    "\n",
    "\n"
   ]
  },
  {
   "cell_type": "code",
   "execution_count": 30,
   "metadata": {},
   "outputs": [
    {
     "name": "stdout",
     "output_type": "stream",
     "text": [
      "Sword\n",
      "Arrow\n",
      "Bow\n",
      "Boots\n"
     ]
    }
   ],
   "source": [
    "inventory = [\"Sword\", \"Arrow\", \"Bow\", \"Boots\"]\n",
    "\n",
    "for i in range(0, 4):\n",
    "    print(inventory[i])"
   ]
  },
  {
   "cell_type": "code",
   "execution_count": 3,
   "metadata": {},
   "outputs": [
    {
     "name": "stdout",
     "output_type": "stream",
     "text": [
      "1\n"
     ]
    }
   ],
   "source": [
    "# Function Syntax\n",
    "\n",
    "x_pos = 0 # Declare the variable\n",
    "\n",
    "def move():        # You can have parameters in the function.\n",
    "    global x_pos   # Have to call the variable as it is not in the function can only use local                              variables\n",
    "    x_pos += 1\n",
    "\n",
    "move()  # Call the function, multiple times if needed\n",
    "move()\n",
    "move()\n",
    "print(x_pos)\n"
   ]
  },
  {
   "cell_type": "code",
   "execution_count": 2,
   "metadata": {},
   "outputs": [
    {
     "name": "stdout",
     "output_type": "stream",
     "text": [
      "hello\n"
     ]
    }
   ],
   "source": [
    "print(\"hello\")\n",
    "\n"
   ]
  },
  {
   "cell_type": "markdown",
   "metadata": {},
   "source": [
    "test"
   ]
  }
 ],
 "metadata": {
  "interpreter": {
   "hash": "916dbcbb3f70747c44a77c7bcd40155683ae19c65e1c03b4aa3499c5328201f1"
  },
  "kernelspec": {
   "display_name": "Python 3.8.10 64-bit",
   "language": "python",
   "name": "python3"
  },
  "language_info": {
   "codemirror_mode": {
    "name": "ipython",
    "version": 3
   },
   "file_extension": ".py",
   "mimetype": "text/x-python",
   "name": "python",
   "nbconvert_exporter": "python",
   "pygments_lexer": "ipython3",
   "version": "3.8.10"
  },
  "orig_nbformat": 4
 },
 "nbformat": 4,
 "nbformat_minor": 2
}
